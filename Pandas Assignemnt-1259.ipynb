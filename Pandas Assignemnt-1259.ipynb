{
 "cells": [
  {
   "cell_type": "markdown",
   "metadata": {},
   "source": [
    "1.define a series with even values from 100 to 200 in descending order \n",
    "2.assign index to this series starting from 100\n",
    "3.create a dataframe of random values of shape 8*6 . Assign index as numerical values and column names from a to f and using loc and iloc print values of rows 3,4 and columns b and e \n",
    "4. create a multi-index dataframe and 1st index is [\"cse\",\"IT\"] and second index is 1 to 6 numbers. use 2 columns A,B and assign random values to it \n",
    "5.print the row value of number 4 from cse \n",
    "6.print the row value of 3,5 from IT\n",
    "7.write a command where length if values in column HELLO is greater than 2"
   ]
  },
  {
   "cell_type": "code",
   "execution_count": 9,
   "metadata": {},
   "outputs": [
    {
     "data": {
      "text/plain": [
       "150    200\n",
       "149    198\n",
       "148    196\n",
       "147    194\n",
       "146    192\n",
       "145    190\n",
       "144    188\n",
       "143    186\n",
       "142    184\n",
       "141    182\n",
       "140    180\n",
       "139    178\n",
       "138    176\n",
       "137    174\n",
       "136    172\n",
       "135    170\n",
       "134    168\n",
       "133    166\n",
       "132    164\n",
       "131    162\n",
       "130    160\n",
       "129    158\n",
       "128    156\n",
       "127    154\n",
       "126    152\n",
       "125    150\n",
       "124    148\n",
       "123    146\n",
       "122    144\n",
       "121    142\n",
       "120    140\n",
       "119    138\n",
       "118    136\n",
       "117    134\n",
       "116    132\n",
       "115    130\n",
       "114    128\n",
       "113    126\n",
       "112    124\n",
       "111    122\n",
       "110    120\n",
       "109    118\n",
       "108    116\n",
       "107    114\n",
       "106    112\n",
       "105    110\n",
       "104    108\n",
       "103    106\n",
       "102    104\n",
       "101    102\n",
       "100    100\n",
       "dtype: int64"
      ]
     },
     "execution_count": 9,
     "metadata": {},
     "output_type": "execute_result"
    }
   ],
   "source": [
    "#1.define a series with even values from 100 to 200 in descending order \n",
    "#2.assign index to this series starting from 100\n",
    "\n",
    "import pandas as pd\n",
    "import numpy as np\n",
    "s1 = pd.Series([i for i in range(100, 201) if i % 2 == 0])\n",
    "s1.index = [i for i in range(100, 151)]\n",
    "s1.sort_values(ascending = False)"
   ]
  },
  {
   "cell_type": "code",
   "execution_count": 10,
   "metadata": {},
   "outputs": [
    {
     "data": {
      "text/html": [
       "<div>\n",
       "<style scoped>\n",
       "    .dataframe tbody tr th:only-of-type {\n",
       "        vertical-align: middle;\n",
       "    }\n",
       "\n",
       "    .dataframe tbody tr th {\n",
       "        vertical-align: top;\n",
       "    }\n",
       "\n",
       "    .dataframe thead th {\n",
       "        text-align: right;\n",
       "    }\n",
       "</style>\n",
       "<table border=\"1\" class=\"dataframe\">\n",
       "  <thead>\n",
       "    <tr style=\"text-align: right;\">\n",
       "      <th></th>\n",
       "      <th>B</th>\n",
       "      <th>C</th>\n",
       "      <th>D</th>\n",
       "      <th>E</th>\n",
       "    </tr>\n",
       "  </thead>\n",
       "  <tbody>\n",
       "    <tr>\n",
       "      <th>3</th>\n",
       "      <td>21</td>\n",
       "      <td>41</td>\n",
       "      <td>18</td>\n",
       "      <td>40</td>\n",
       "    </tr>\n",
       "    <tr>\n",
       "      <th>4</th>\n",
       "      <td>36</td>\n",
       "      <td>85</td>\n",
       "      <td>18</td>\n",
       "      <td>83</td>\n",
       "    </tr>\n",
       "  </tbody>\n",
       "</table>\n",
       "</div>"
      ],
      "text/plain": [
       "    B   C   D   E\n",
       "3  21  41  18  40\n",
       "4  36  85  18  83"
      ]
     },
     "execution_count": 10,
     "metadata": {},
     "output_type": "execute_result"
    }
   ],
   "source": [
    "#3.create a dataframe of random values of shape 8*6 . Assign index as numerical values and column names from a to f and using loc and iloc print values of rows 3,4 and columns b and e \n",
    "\n",
    "df = pd.DataFrame(np.random.randint(0,100,size=(8, 6)), columns=list('ABCDEF'))\n",
    "df.iloc[3:5, 1:5]"
   ]
  },
  {
   "cell_type": "code",
   "execution_count": 11,
   "metadata": {},
   "outputs": [
    {
     "data": {
      "text/plain": [
       "A    B\n",
       "CSE  1   -0.650425\n",
       "     2    0.816823\n",
       "     3   -0.234105\n",
       "     4    1.004435\n",
       "     5   -0.009229\n",
       "     6    0.354589\n",
       "IT   1    0.456975\n",
       "     2    0.755080\n",
       "     3    0.013486\n",
       "     4   -1.179041\n",
       "     5    0.910248\n",
       "     6   -0.717424\n",
       "dtype: float64"
      ]
     },
     "execution_count": 11,
     "metadata": {},
     "output_type": "execute_result"
    }
   ],
   "source": [
    "#4. create a multi-index dataframe and 1st index is [\"cse\",\"IT\"] and second index is 1 to 6 numbers. use 2 columns A,B and assign random values to it\n",
    "\n",
    "arr = [np.array([\"CSE\",\"CSE\",\"CSE\",\"CSE\", \"CSE\", \"CSE\",\"IT\",\"IT\",\"IT\",\"IT\",\"IT\",\"IT\"]),\n",
    "                  np.array([1, 2, 3, 4, 5, 6, 1, 2 , 3, 4, 5, 6])]\n",
    "tuples = list(zip(*arr))\n",
    "tuples\n",
    "index = pd.MultiIndex.from_tuples(tuples, names=[\"A\", \"B\"] )\n",
    "index\n",
    "s = pd.Series(np.random.randn(12), index=index)\n",
    "s"
   ]
  },
  {
   "cell_type": "code",
   "execution_count": 12,
   "metadata": {},
   "outputs": [
    {
     "data": {
      "text/plain": [
       "1.0044354897469678"
      ]
     },
     "execution_count": 12,
     "metadata": {},
     "output_type": "execute_result"
    }
   ],
   "source": [
    "#5.print the row value of number 4 from cse \n",
    "\n",
    "s[\"CSE\"][4]"
   ]
  },
  {
   "cell_type": "code",
   "execution_count": 13,
   "metadata": {},
   "outputs": [
    {
     "data": {
      "text/plain": [
       "B\n",
       "3    0.013486\n",
       "4   -1.179041\n",
       "5    0.910248\n",
       "dtype: float64"
      ]
     },
     "execution_count": 13,
     "metadata": {},
     "output_type": "execute_result"
    }
   ],
   "source": [
    "#6.print the row value of 3,5 from IT\n",
    "\n",
    "s[\"IT\"][2:5]"
   ]
  },
  {
   "cell_type": "code",
   "execution_count": null,
   "metadata": {},
   "outputs": [],
   "source": []
  }
 ],
 "metadata": {
  "kernelspec": {
   "display_name": "Python 3",
   "language": "python",
   "name": "python3"
  },
  "language_info": {
   "codemirror_mode": {
    "name": "ipython",
    "version": 3
   },
   "file_extension": ".py",
   "mimetype": "text/x-python",
   "name": "python",
   "nbconvert_exporter": "python",
   "pygments_lexer": "ipython3",
   "version": "3.7.6"
  }
 },
 "nbformat": 4,
 "nbformat_minor": 4
}
